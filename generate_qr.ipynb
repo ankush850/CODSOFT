{
 "cells": [
  {
   "cell_type": "code",
   "execution_count": null,
   "id": "9820a2be",
   "metadata": {},
   "outputs": [],
   "source": [
    "import pyqrcode\n",
    "import png  \n",
    "# Define the data (your GitHub profile URL)\n",
    "data = \"https://github.com/ankush850\"\n",
    "\n",
    "# Create the QR code\n",
    "qr = pyqrcode.create(data)\n",
    "\n",
    "# Save the QR code in PNG format\n",
    "qr.png(\"githubID.png\", scale=5)\n",
    "\n",
    "print(\"QR code generated and saved as githubID.png\")"
   ]
  }
 ],
 "metadata": {
  "language_info": {
   "name": "python"
  }
 },
 "nbformat": 4,
 "nbformat_minor": 5
}
