{
 "cells": [
  {
   "cell_type": "code",
   "execution_count": 3,
   "id": "9820a2be",
   "metadata": {},
   "outputs": [
    {
     "data": {
      "text/html": [
       "\n",
       "<div style=\"text-align: center;\">\n",
       "    <img src=\"githubID.png\">\n",
       "</div>\n"
      ],
      "text/plain": [
       "<IPython.core.display.HTML object>"
      ]
     },
     "metadata": {},
     "output_type": "display_data"
    }
   ],
   "source": [
    "import pyqrcode\n",
    "import png\n",
    "from IPython.display import display, HTML, Image\n",
    "\n",
    "# Data (GitHub profile link)\n",
    "data = \"https://github.com/ankush850\"\n",
    "\n",
    "# Create the QR code\n",
    "qr = pyqrcode.create(data)\n",
    "\n",
    "# Save as PNG\n",
    "qr.png(\"githubID.png\", scale=5)\n",
    "\n",
    "# Display centered in notebook\n",
    "display(HTML(f\"\"\"\n",
    "<div style=\"text-align: center;\">\n",
    "    <img src=\"githubID.png\">\n",
    "</div>\n",
    "\"\"\"))\n"
   ]
  },
  {
   "cell_type": "markdown",
   "id": "5ef678b6",
   "metadata": {},
   "source": [
    "\n",
    "\n",
    "\n",
    "\n",
    "\n",
    "\n",
    "\n"
   ]
  }
 ],
 "metadata": {
  "kernelspec": {
   "display_name": "Python 3",
   "language": "python",
   "name": "python3"
  },
  "language_info": {
   "codemirror_mode": {
    "name": "ipython",
    "version": 3
   },
   "file_extension": ".py",
   "mimetype": "text/x-python",
   "name": "python",
   "nbconvert_exporter": "python",
   "pygments_lexer": "ipython3",
   "version": "3.11.9"
  }
 },
 "nbformat": 4,
 "nbformat_minor": 5
}
